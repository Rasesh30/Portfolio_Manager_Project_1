{
 "cells": [
  {
   "cell_type": "code",
   "execution_count": 1,
   "metadata": {},
   "outputs": [],
   "source": [
    "#Step 1: Initial Imports\n",
    "import pandas as pd\n",
    "import yfinance as yf\n",
    "import matplotlib.pyplot as plt\n",
    "import seaborn as sns\n",
    "import numpy as np\n"
   ]
  },
  {
   "cell_type": "code",
   "execution_count": 2,
   "metadata": {},
   "outputs": [],
   "source": [
    "# Define the list of tickers\n",
    "tickers = ['NVDA', 'AAPL', 'AMZN', 'TSLA']"
   ]
  },
  {
   "cell_type": "code",
   "execution_count": 3,
   "metadata": {},
   "outputs": [],
   "source": [
    "# Fetch data for each ticker and calculate daily returns\n",
    "data = {}\n",
    "returns = {}\n",
    "\n",
    "for ticker in tickers:\n",
    "    stock = yf.Ticker(ticker)\n",
    "    hist = stock.history(period=\"1y\")\n",
    "    data[ticker] = hist\n",
    "    data[ticker]['Daily Return'] = data[ticker]['Close'].pct_change()"
   ]
  },
  {
   "cell_type": "code",
   "execution_count": 4,
   "metadata": {},
   "outputs": [
    {
     "name": "stdout",
     "output_type": "stream",
     "text": [
      "                                Open       High        Low      Close  \\\n",
      "Date                                                                    \n",
      "2023-07-17 00:00:00-04:00  46.275148  46.482083  45.248455  46.447094   \n",
      "2023-07-18 00:00:00-04:00  46.687024  47.881666  45.720314  47.479786   \n",
      "2023-07-19 00:00:00-04:00  47.449793  47.803687  46.728009  47.062908   \n",
      "2023-07-20 00:00:00-04:00  46.493078  47.072907  45.048511  45.506374   \n",
      "2023-07-21 00:00:00-04:00  45.774292  45.852271  44.086797  44.295734   \n",
      "\n",
      "                              Volume  Dividends  Stock Splits  Daily Return  \n",
      "Date                                                                         \n",
      "2023-07-17 00:00:00-04:00  510488000        0.0           0.0           NaN  \n",
      "2023-07-18 00:00:00-04:00  569164000        0.0           0.0      0.022234  \n",
      "2023-07-19 00:00:00-04:00  427502000        0.0           0.0     -0.008780  \n",
      "2023-07-20 00:00:00-04:00  537865000        0.0           0.0     -0.033073  \n",
      "2023-07-21 00:00:00-04:00  963769000        0.0           0.0     -0.026604  \n"
     ]
    }
   ],
   "source": [
    "# Display data for Nvidia\n",
    "print(data['NVDA'].head())"
   ]
  },
  {
   "cell_type": "code",
   "execution_count": 5,
   "metadata": {},
   "outputs": [
    {
     "name": "stdout",
     "output_type": "stream",
     "text": [
      "                                 Open        High         Low       Close  \\\n",
      "Date                                                                        \n",
      "2023-07-17 00:00:00-04:00  190.886239  193.293468  190.796718  192.965210   \n",
      "2023-07-18 00:00:00-04:00  192.328606  193.303425  191.403511  192.706589   \n",
      "2023-07-19 00:00:00-04:00  192.079917  197.182806  191.632282  194.069351   \n",
      "2023-07-20 00:00:00-04:00  194.059394  195.432109  191.483080  192.109756   \n",
      "2023-07-21 00:00:00-04:00  193.074634  193.940033  190.219785  190.926041   \n",
      "\n",
      "                             Volume  Dividends  Stock Splits  Daily Return  \n",
      "Date                                                                        \n",
      "2023-07-17 00:00:00-04:00  50520200        0.0           0.0           NaN  \n",
      "2023-07-18 00:00:00-04:00  48353800        0.0           0.0     -0.001340  \n",
      "2023-07-19 00:00:00-04:00  80507300        0.0           0.0      0.007072  \n",
      "2023-07-20 00:00:00-04:00  59581200        0.0           0.0     -0.010097  \n",
      "2023-07-21 00:00:00-04:00  71917800        0.0           0.0     -0.006162  \n"
     ]
    }
   ],
   "source": [
    "# Display data for Apple\n",
    "print(data['AAPL'].head())\n"
   ]
  },
  {
   "cell_type": "code",
   "execution_count": 6,
   "metadata": {},
   "outputs": [
    {
     "name": "stdout",
     "output_type": "stream",
     "text": [
      "                                 Open        High         Low       Close  \\\n",
      "Date                                                                        \n",
      "2023-07-17 00:00:00-04:00  134.559998  135.619995  133.210007  133.559998   \n",
      "2023-07-18 00:00:00-04:00  132.710007  133.860001  131.350006  132.830002   \n",
      "2023-07-19 00:00:00-04:00  133.389999  135.990005  132.529999  135.360001   \n",
      "2023-07-20 00:00:00-04:00  134.070007  134.789993  129.330002  129.960007   \n",
      "2023-07-21 00:00:00-04:00  131.339996  131.369995  128.419998  130.000000   \n",
      "\n",
      "                              Volume  Dividends  Stock Splits  Daily Return  \n",
      "Date                                                                         \n",
      "2023-07-17 00:00:00-04:00   48450200        0.0           0.0           NaN  \n",
      "2023-07-18 00:00:00-04:00   54969100        0.0           0.0     -0.005466  \n",
      "2023-07-19 00:00:00-04:00   54531000        0.0           0.0      0.019047  \n",
      "2023-07-20 00:00:00-04:00   59820600        0.0           0.0     -0.039894  \n",
      "2023-07-21 00:00:00-04:00  133265000        0.0           0.0      0.000308  \n"
     ]
    }
   ],
   "source": [
    "# Display data for Amazon\n",
    "print(data['AMZN'].head())"
   ]
  },
  {
   "cell_type": "code",
   "execution_count": 7,
   "metadata": {},
   "outputs": [
    {
     "name": "stdout",
     "output_type": "stream",
     "text": [
      "                                 Open        High         Low       Close  \\\n",
      "Date                                                                        \n",
      "2023-07-17 00:00:00-04:00  286.630005  292.230011  283.570007  290.380005   \n",
      "2023-07-18 00:00:00-04:00  290.149994  295.260010  286.010010  293.339996   \n",
      "2023-07-19 00:00:00-04:00  296.040009  299.290009  289.519989  291.260010   \n",
      "2023-07-20 00:00:00-04:00  279.559998  280.929993  261.200012  262.899994   \n",
      "2023-07-21 00:00:00-04:00  268.000000  268.000000  255.800003  260.019989   \n",
      "\n",
      "                              Volume  Dividends  Stock Splits  Daily Return  \n",
      "Date                                                                         \n",
      "2023-07-17 00:00:00-04:00  131569600        0.0           0.0           NaN  \n",
      "2023-07-18 00:00:00-04:00  112434700        0.0           0.0      0.010194  \n",
      "2023-07-19 00:00:00-04:00  142355400        0.0           0.0     -0.007091  \n",
      "2023-07-20 00:00:00-04:00  175158300        0.0           0.0     -0.097370  \n",
      "2023-07-21 00:00:00-04:00  161050100        0.0           0.0     -0.010955  \n"
     ]
    }
   ],
   "source": [
    "# Display data for Tesla\n",
    "print(data['TSLA'].head())"
   ]
  },
  {
   "cell_type": "code",
   "execution_count": 8,
   "metadata": {},
   "outputs": [],
   "source": [
    "# Save data with daily returns to CSV\n",
    "for ticker in tickers:\n",
    "    data[ticker].to_csv(f'{ticker}_historical_data_with_returns.csv')"
   ]
  }
 ],
 "metadata": {
  "kernelspec": {
   "display_name": "base",
   "language": "python",
   "name": "python3"
  },
  "language_info": {
   "codemirror_mode": {
    "name": "ipython",
    "version": 3
   },
   "file_extension": ".py",
   "mimetype": "text/x-python",
   "name": "python",
   "nbconvert_exporter": "python",
   "pygments_lexer": "ipython3",
   "version": "3.11.7"
  }
 },
 "nbformat": 4,
 "nbformat_minor": 2
}
